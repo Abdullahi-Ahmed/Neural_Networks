{
  "nbformat": 4,
  "nbformat_minor": 0,
  "metadata": {
    "colab": {
      "name": "HomeLoan.ipynb",
      "provenance": []
    },
    "kernelspec": {
      "name": "python3",
      "display_name": "Python 3"
    },
    "language_info": {
      "name": "python"
    },
    "accelerator": "TPU"
  },
  "cells": [
    {
      "cell_type": "code",
      "metadata": {
        "id": "lcsggakN0MP6"
      },
      "source": [
        "import pandas as pd\n",
        "import numpy as np\n",
        "import seaborn as sns\n",
        "\n",
        "import matplotlib.pyplot as plt\n",
        "import warnings\n",
        "warnings.filterwarnings('ignore')"
      ],
      "execution_count": null,
      "outputs": []
    },
    {
      "cell_type": "code",
      "metadata": {
        "id": "1tzNVhJE5iFT"
      },
      "source": [
        "import io\n",
        "df = pd.read_csv(\"/content/loan_data (1).csv\")"
      ],
      "execution_count": null,
      "outputs": []
    },
    {
      "cell_type": "code",
      "metadata": {
        "colab": {
          "base_uri": "https://localhost:8080/"
        },
        "id": "1WDdUy_45pZa",
        "outputId": "61b9223d-9ac1-4962-c561-6db1f2283c2f"
      },
      "source": [
        "len(df.columns[df.isnull().sum(axis = 0)> 0])"
      ],
      "execution_count": null,
      "outputs": [
        {
          "output_type": "execute_result",
          "data": {
            "text/plain": [
              "67"
            ]
          },
          "metadata": {},
          "execution_count": 7
        }
      ]
    },
    {
      "cell_type": "code",
      "metadata": {
        "colab": {
          "base_uri": "https://localhost:8080/"
        },
        "id": "XeC6DAzr5tC-",
        "outputId": "9a496d9e-dfb4-44f4-a46a-053b523bc743"
      },
      "source": [
        "#lets see this 67 columns with missing values\n",
        "with pd.option_context('display.max_rows', None, 'display.max_columns', None): \n",
        " print(df.isnull().sum().sort_values(ascending = False).head(67))"
      ],
      "execution_count": null,
      "outputs": [
        {
          "output_type": "stream",
          "text": [
            "COMMONAREA_MEDI                 214865\n",
            "COMMONAREA_AVG                  214865\n",
            "COMMONAREA_MODE                 214865\n",
            "NONLIVINGAPARTMENTS_MODE        213514\n",
            "NONLIVINGAPARTMENTS_MEDI        213514\n",
            "NONLIVINGAPARTMENTS_AVG         213514\n",
            "FONDKAPREMONT_MODE              210295\n",
            "LIVINGAPARTMENTS_MEDI           210199\n",
            "LIVINGAPARTMENTS_MODE           210199\n",
            "LIVINGAPARTMENTS_AVG            210199\n",
            "FLOORSMIN_MEDI                  208642\n",
            "FLOORSMIN_MODE                  208642\n",
            "FLOORSMIN_AVG                   208642\n",
            "YEARS_BUILD_MEDI                204488\n",
            "YEARS_BUILD_AVG                 204488\n",
            "YEARS_BUILD_MODE                204488\n",
            "OWN_CAR_AGE                     202929\n",
            "LANDAREA_MODE                   182590\n",
            "LANDAREA_AVG                    182590\n",
            "LANDAREA_MEDI                   182590\n",
            "BASEMENTAREA_MEDI               179943\n",
            "BASEMENTAREA_AVG                179943\n",
            "BASEMENTAREA_MODE               179943\n",
            "EXT_SOURCE_1                    173378\n",
            "NONLIVINGAREA_MEDI              169682\n",
            "NONLIVINGAREA_AVG               169682\n",
            "NONLIVINGAREA_MODE              169682\n",
            "ELEVATORS_MODE                  163891\n",
            "ELEVATORS_AVG                   163891\n",
            "ELEVATORS_MEDI                  163891\n",
            "WALLSMATERIAL_MODE              156341\n",
            "APARTMENTS_MODE                 156061\n",
            "APARTMENTS_AVG                  156061\n",
            "APARTMENTS_MEDI                 156061\n",
            "ENTRANCES_MEDI                  154828\n",
            "ENTRANCES_MODE                  154828\n",
            "ENTRANCES_AVG                   154828\n",
            "LIVINGAREA_MEDI                 154350\n",
            "LIVINGAREA_MODE                 154350\n",
            "LIVINGAREA_AVG                  154350\n",
            "HOUSETYPE_MODE                  154297\n",
            "FLOORSMAX_MODE                  153020\n",
            "FLOORSMAX_MEDI                  153020\n",
            "FLOORSMAX_AVG                   153020\n",
            "YEARS_BEGINEXPLUATATION_MEDI    150007\n",
            "YEARS_BEGINEXPLUATATION_AVG     150007\n",
            "YEARS_BEGINEXPLUATATION_MODE    150007\n",
            "TOTALAREA_MODE                  148431\n",
            "EMERGENCYSTATE_MODE             145755\n",
            "OCCUPATION_TYPE                  96391\n",
            "EXT_SOURCE_3                     60965\n",
            "AMT_REQ_CREDIT_BUREAU_QRT        41519\n",
            "AMT_REQ_CREDIT_BUREAU_YEAR       41519\n",
            "AMT_REQ_CREDIT_BUREAU_WEEK       41519\n",
            "AMT_REQ_CREDIT_BUREAU_MON        41519\n",
            "AMT_REQ_CREDIT_BUREAU_DAY        41519\n",
            "AMT_REQ_CREDIT_BUREAU_HOUR       41519\n",
            "NAME_TYPE_SUITE                   1292\n",
            "OBS_30_CNT_SOCIAL_CIRCLE          1021\n",
            "OBS_60_CNT_SOCIAL_CIRCLE          1021\n",
            "DEF_60_CNT_SOCIAL_CIRCLE          1021\n",
            "DEF_30_CNT_SOCIAL_CIRCLE          1021\n",
            "EXT_SOURCE_2                       660\n",
            "AMT_GOODS_PRICE                    278\n",
            "AMT_ANNUITY                         12\n",
            "CNT_FAM_MEMBERS                      2\n",
            "DAYS_LAST_PHONE_CHANGE               1\n",
            "dtype: int64\n"
          ],
          "name": "stdout"
        }
      ]
    },
    {
      "cell_type": "code",
      "metadata": {
        "colab": {
          "base_uri": "https://localhost:8080/",
          "height": 265
        },
        "id": "72Dk3uqH50pk",
        "outputId": "f77d045d-152f-413f-b538-9a13d56f1f9a"
      },
      "source": [
        "x = np.char.array(['defaulter', 'payer'])\n",
        "y = np.array([24825, 282686])\n",
        "colors = ['lime','indigo']\n",
        "porcent = 100.*y/y.sum()\n",
        "explode = (0.05,0.05)\n",
        "\n",
        "patches, texts = plt.pie(y, colors=colors, startangle=90, radius=1.2, explode = explode)\n",
        "centre_circle = plt.Circle((0,0),0.70,fc='white')\n",
        "fig = plt.gcf()\n",
        "fig.gca().add_artist(centre_circle)\n",
        "labels = ['{0} - {1:1.2f} %'.format(i,j) for i,j in zip(x, porcent)]\n",
        "\n",
        "sort_legend = True\n",
        "if sort_legend:\n",
        "    patches, labels, dummy =  zip(*sorted(zip(patches, labels, y),\n",
        "                                          key=lambda x: x[2],\n",
        "                                          reverse=True))\n",
        "\n",
        "plt.legend(patches, labels, loc='upper right', bbox_to_anchor=(-0.1, 1.),\n",
        "           fontsize=15)\n",
        "\n",
        "plt.title(\"Loan Percentage %\")\n",
        "plt.savefig('piechart.png', bbox_inches='tight')\n",
        "plt.show()\n"
      ],
      "execution_count": null,
      "outputs": [
        {
          "output_type": "display_data",
          "data": {
            "image/png": "[encoded data removed]",
            "text/plain": [
              "<Figure size 432x288 with 1 Axes>"
            ]
          },
          "metadata": {}
        }
      ]
    },
    {
      "cell_type": "code",
      "metadata": {
        "colab": {
          "base_uri": "https://localhost:8080/",
          "height": 331
        },
        "id": "NDFTtmww57js",
        "outputId": "b054a943-4beb-459c-ab2e-df40596a4787"
      },
      "source": [
        "target = df['TARGET'].value_counts()\n",
        "sns.countplot(x='TARGET', data=df)\n",
        "target"
      ],
      "execution_count": null,
      "outputs": [
        {
          "output_type": "execute_result",
          "data": {
            "text/plain": [
              "0    282686\n",
              "1     24825\n",
              "Name: TARGET, dtype: int64"
            ]
          },
          "metadata": {},
          "execution_count": 10
        },
        {
          "output_type": "display_data",
          "data": {
            "image/png": "[encoded data removed]",
            "text/plain": [
              "<Figure size 432x288 with 1 Axes>"
            ]
          },
          "metadata": {
            "needs_background": "light"
          }
        }
      ]
    },
    {
      "cell_type": "code",
      "metadata": {
        "id": "DEU5rQdcMJ_L"
      },
      "source": [
        ""
      ],
      "execution_count": null,
      "outputs": []
    },
    {
      "cell_type": "code",
      "metadata": {
        "colab": {
          "base_uri": "https://localhost:8080/",
          "height": 366
        },
        "id": "jj0PFniC6FyW",
        "outputId": "df9608e4-5a8b-4d47-e39f-bc56514f0d93"
      },
      "source": [
        "count_class_0, count_class_1 = df['TARGET'].value_counts()\n",
        "df_0 = df[df['TARGET'] == 0]\n",
        "df_1 = df[df['TARGET'] == 1]\n",
        "df_1_over = df_1.sample(count_class_0, replace=True)\n",
        "df_test_over = pd.concat([df_0, df_1_over], axis=0)\n",
        "print('Random over-sampling:')\n",
        "print(df_test_over['TARGET'].value_counts())\n",
        "\n",
        "sns.set_style('darkgrid')\n",
        "sns.countplot(x='TARGET', data=df_test_over)"
      ],
      "execution_count": null,
      "outputs": [
        {
          "output_type": "stream",
          "text": [
            "Random over-sampling:\n",
            "1    282686\n",
            "0    282686\n",
            "Name: TARGET, dtype: int64\n"
          ],
          "name": "stdout"
        },
        {
          "output_type": "execute_result",
          "data": {
            "text/plain": [
              "<matplotlib.axes._subplots.AxesSubplot at 0x7fdc63ae97d0>"
            ]
          },
          "metadata": {},
          "execution_count": 11
        },
        {
          "output_type": "display_data",
          "data": {
            "image/png": "[encoded data removed]",
            "text/plain": [
              "<Figure size 432x288 with 1 Axes>"
            ]
          },
          "metadata": {}
        }
      ]
    },
    {
      "cell_type": "code",
      "metadata": {
        "colab": {
          "base_uri": "https://localhost:8080/"
        },
        "id": "MD8eg-dO6Mkj",
        "outputId": "67114a67-2d39-4889-e7f2-838e4188d4b3"
      },
      "source": [
        "df.dtypes.value_counts()"
      ],
      "execution_count": null,
      "outputs": [
        {
          "output_type": "execute_result",
          "data": {
            "text/plain": [
              "float64    65\n",
              "int64      41\n",
              "object     16\n",
              "dtype: int64"
            ]
          },
          "metadata": {},
          "execution_count": 12
        }
      ]
    },
    {
      "cell_type": "code",
      "metadata": {
        "colab": {
          "base_uri": "https://localhost:8080/"
        },
        "id": "p0jEaPLD6GK2",
        "outputId": "8f69f693-04b5-4db5-a9b2-b84611e210e0"
      },
      "source": [
        "def rmissingvaluecol(dff, threshold):\n",
        "    l = []\n",
        "    l = list(dff.drop(dff.loc[:,list((100*(dff.isnull().sum()/len(dff.index)) >= threshold))].columns, 1).columns.values)\n",
        "    print(\"# Columns having more than %s percent missing values: \"%threshold, (dff.shape[1] - len(l)))\n",
        "    print(\"Columns:\\n\", list(set(list((dff.columns.values))) - set(l)))\n",
        "    return l\n",
        "\n",
        "\n",
        "rmissingvaluecol(df,50)"
      ],
      "execution_count": null,
      "outputs": [
        {
          "output_type": "stream",
          "text": [
            "# Columns having more than 50 percent missing values:  41\n",
            "Columns:\n",
            " ['APARTMENTS_MODE', 'ENTRANCES_MEDI', 'NONLIVINGAPARTMENTS_AVG', 'YEARS_BUILD_AVG', 'WALLSMATERIAL_MODE', 'YEARS_BUILD_MODE', 'LANDAREA_MEDI', 'ELEVATORS_MEDI', 'NONLIVINGAREA_MEDI', 'OWN_CAR_AGE', 'EXT_SOURCE_1', 'COMMONAREA_AVG', 'LIVINGAREA_AVG', 'COMMONAREA_MEDI', 'LIVINGAPARTMENTS_AVG', 'LIVINGAREA_MEDI', 'LIVINGAPARTMENTS_MEDI', 'COMMONAREA_MODE', 'ELEVATORS_AVG', 'LIVINGAPARTMENTS_MODE', 'BASEMENTAREA_MEDI', 'FLOORSMIN_MODE', 'LIVINGAREA_MODE', 'ENTRANCES_MODE', 'FLOORSMIN_MEDI', 'NONLIVINGAPARTMENTS_MODE', 'FONDKAPREMONT_MODE', 'FLOORSMIN_AVG', 'APARTMENTS_AVG', 'HOUSETYPE_MODE', 'NONLIVINGAPARTMENTS_MEDI', 'LANDAREA_AVG', 'NONLIVINGAREA_MODE', 'LANDAREA_MODE', 'BASEMENTAREA_MODE', 'NONLIVINGAREA_AVG', 'ELEVATORS_MODE', 'ENTRANCES_AVG', 'YEARS_BUILD_MEDI', 'APARTMENTS_MEDI', 'BASEMENTAREA_AVG']\n"
          ],
          "name": "stdout"
        },
        {
          "output_type": "execute_result",
          "data": {
            "text/plain": [
              "['SK_ID_CURR',\n",
              " 'TARGET',\n",
              " 'NAME_CONTRACT_TYPE',\n",
              " 'CODE_GENDER',\n",
              " 'FLAG_OWN_CAR',\n",
              " 'FLAG_OWN_REALTY',\n",
              " 'CNT_CHILDREN',\n",
              " 'AMT_INCOME_TOTAL',\n",
              " 'AMT_CREDIT',\n",
              " 'AMT_ANNUITY',\n",
              " 'AMT_GOODS_PRICE',\n",
              " 'NAME_TYPE_SUITE',\n",
              " 'NAME_INCOME_TYPE',\n",
              " 'NAME_EDUCATION_TYPE',\n",
              " 'NAME_FAMILY_STATUS',\n",
              " 'NAME_HOUSING_TYPE',\n",
              " 'REGION_POPULATION_RELATIVE',\n",
              " 'DAYS_BIRTH',\n",
              " 'DAYS_EMPLOYED',\n",
              " 'DAYS_REGISTRATION',\n",
              " 'DAYS_ID_PUBLISH',\n",
              " 'FLAG_MOBIL',\n",
              " 'FLAG_EMP_PHONE',\n",
              " 'FLAG_WORK_PHONE',\n",
              " 'FLAG_CONT_MOBILE',\n",
              " 'FLAG_PHONE',\n",
              " 'FLAG_EMAIL',\n",
              " 'OCCUPATION_TYPE',\n",
              " 'CNT_FAM_MEMBERS',\n",
              " 'REGION_RATING_CLIENT',\n",
              " 'REGION_RATING_CLIENT_W_CITY',\n",
              " 'WEEKDAY_APPR_PROCESS_START',\n",
              " 'HOUR_APPR_PROCESS_START',\n",
              " 'REG_REGION_NOT_LIVE_REGION',\n",
              " 'REG_REGION_NOT_WORK_REGION',\n",
              " 'LIVE_REGION_NOT_WORK_REGION',\n",
              " 'REG_CITY_NOT_LIVE_CITY',\n",
              " 'REG_CITY_NOT_WORK_CITY',\n",
              " 'LIVE_CITY_NOT_WORK_CITY',\n",
              " 'ORGANIZATION_TYPE',\n",
              " 'EXT_SOURCE_2',\n",
              " 'EXT_SOURCE_3',\n",
              " 'YEARS_BEGINEXPLUATATION_AVG',\n",
              " 'FLOORSMAX_AVG',\n",
              " 'YEARS_BEGINEXPLUATATION_MODE',\n",
              " 'FLOORSMAX_MODE',\n",
              " 'YEARS_BEGINEXPLUATATION_MEDI',\n",
              " 'FLOORSMAX_MEDI',\n",
              " 'TOTALAREA_MODE',\n",
              " 'EMERGENCYSTATE_MODE',\n",
              " 'OBS_30_CNT_SOCIAL_CIRCLE',\n",
              " 'DEF_30_CNT_SOCIAL_CIRCLE',\n",
              " 'OBS_60_CNT_SOCIAL_CIRCLE',\n",
              " 'DEF_60_CNT_SOCIAL_CIRCLE',\n",
              " 'DAYS_LAST_PHONE_CHANGE',\n",
              " 'FLAG_DOCUMENT_2',\n",
              " 'FLAG_DOCUMENT_3',\n",
              " 'FLAG_DOCUMENT_4',\n",
              " 'FLAG_DOCUMENT_5',\n",
              " 'FLAG_DOCUMENT_6',\n",
              " 'FLAG_DOCUMENT_7',\n",
              " 'FLAG_DOCUMENT_8',\n",
              " 'FLAG_DOCUMENT_9',\n",
              " 'FLAG_DOCUMENT_10',\n",
              " 'FLAG_DOCUMENT_11',\n",
              " 'FLAG_DOCUMENT_12',\n",
              " 'FLAG_DOCUMENT_13',\n",
              " 'FLAG_DOCUMENT_14',\n",
              " 'FLAG_DOCUMENT_15',\n",
              " 'FLAG_DOCUMENT_16',\n",
              " 'FLAG_DOCUMENT_17',\n",
              " 'FLAG_DOCUMENT_18',\n",
              " 'FLAG_DOCUMENT_19',\n",
              " 'FLAG_DOCUMENT_20',\n",
              " 'FLAG_DOCUMENT_21',\n",
              " 'AMT_REQ_CREDIT_BUREAU_HOUR',\n",
              " 'AMT_REQ_CREDIT_BUREAU_DAY',\n",
              " 'AMT_REQ_CREDIT_BUREAU_WEEK',\n",
              " 'AMT_REQ_CREDIT_BUREAU_MON',\n",
              " 'AMT_REQ_CREDIT_BUREAU_QRT',\n",
              " 'AMT_REQ_CREDIT_BUREAU_YEAR']"
            ]
          },
          "metadata": {},
          "execution_count": 13
        }
      ]
    },
    {
      "cell_type": "code",
      "metadata": {
        "colab": {
          "base_uri": "https://localhost:8080/"
        },
        "id": "kZ4KILzg6GTB",
        "outputId": "7a2b8938-a17f-4cc9-e14b-8488bfc3cab5"
      },
      "source": [
        "l = rmissingvaluecol(df, 50)\n",
        "newdf = df[l]"
      ],
      "execution_count": null,
      "outputs": [
        {
          "output_type": "stream",
          "text": [
            "# Columns having more than 50 percent missing values:  41\n",
            "Columns:\n",
            " ['APARTMENTS_MODE', 'ENTRANCES_MEDI', 'NONLIVINGAPARTMENTS_AVG', 'YEARS_BUILD_AVG', 'WALLSMATERIAL_MODE', 'YEARS_BUILD_MODE', 'LANDAREA_MEDI', 'ELEVATORS_MEDI', 'NONLIVINGAREA_MEDI', 'OWN_CAR_AGE', 'EXT_SOURCE_1', 'COMMONAREA_AVG', 'LIVINGAREA_AVG', 'COMMONAREA_MEDI', 'LIVINGAPARTMENTS_AVG', 'LIVINGAREA_MEDI', 'LIVINGAPARTMENTS_MEDI', 'COMMONAREA_MODE', 'ELEVATORS_AVG', 'LIVINGAPARTMENTS_MODE', 'BASEMENTAREA_MEDI', 'FLOORSMIN_MODE', 'LIVINGAREA_MODE', 'ENTRANCES_MODE', 'FLOORSMIN_MEDI', 'NONLIVINGAPARTMENTS_MODE', 'FONDKAPREMONT_MODE', 'FLOORSMIN_AVG', 'APARTMENTS_AVG', 'HOUSETYPE_MODE', 'NONLIVINGAPARTMENTS_MEDI', 'LANDAREA_AVG', 'NONLIVINGAREA_MODE', 'LANDAREA_MODE', 'BASEMENTAREA_MODE', 'NONLIVINGAREA_AVG', 'ELEVATORS_MODE', 'ENTRANCES_AVG', 'YEARS_BUILD_MEDI', 'APARTMENTS_MEDI', 'BASEMENTAREA_AVG']\n"
          ],
          "name": "stdout"
        }
      ]
    },
    {
      "cell_type": "code",
      "metadata": {
        "id": "3l9ampm96Gax"
      },
      "source": [
        "newdf['NAME_TYPE_SUITE'].fillna(newdf['NAME_TYPE_SUITE'].mode()[0], inplace=True)\n",
        "newdf['OCCUPATION_TYPE'].fillna(newdf['OCCUPATION_TYPE'].mode()[0], inplace=True)\n",
        "newdf['EMERGENCYSTATE_MODE'].fillna(newdf['EMERGENCYSTATE_MODE'].mode()[0], inplace=True)\n",
        "\n",
        "\n"
      ],
      "execution_count": null,
      "outputs": []
    },
    {
      "cell_type": "code",
      "metadata": {
        "colab": {
          "base_uri": "https://localhost:8080/"
        },
        "id": "du5hAJdr6GiU",
        "outputId": "c23c6c1a-1e03-411f-d729-4e832983d5a5"
      },
      "source": [
        "df_missing_values=[]\n",
        "for col in newdf.columns:\n",
        "    if newdf[col].isnull().sum() !=0:\n",
        "         df_missing_values.append(col)\n",
        "print(df_missing_values)"
      ],
      "execution_count": null,
      "outputs": [
        {
          "output_type": "stream",
          "text": [
            "['AMT_ANNUITY', 'AMT_GOODS_PRICE', 'CNT_FAM_MEMBERS', 'EXT_SOURCE_2', 'EXT_SOURCE_3', 'YEARS_BEGINEXPLUATATION_AVG', 'FLOORSMAX_AVG', 'YEARS_BEGINEXPLUATATION_MODE', 'FLOORSMAX_MODE', 'YEARS_BEGINEXPLUATATION_MEDI', 'FLOORSMAX_MEDI', 'TOTALAREA_MODE', 'OBS_30_CNT_SOCIAL_CIRCLE', 'DEF_30_CNT_SOCIAL_CIRCLE', 'OBS_60_CNT_SOCIAL_CIRCLE', 'DEF_60_CNT_SOCIAL_CIRCLE', 'DAYS_LAST_PHONE_CHANGE', 'AMT_REQ_CREDIT_BUREAU_HOUR', 'AMT_REQ_CREDIT_BUREAU_DAY', 'AMT_REQ_CREDIT_BUREAU_WEEK', 'AMT_REQ_CREDIT_BUREAU_MON', 'AMT_REQ_CREDIT_BUREAU_QRT', 'AMT_REQ_CREDIT_BUREAU_YEAR']\n"
          ],
          "name": "stdout"
        }
      ]
    },
    {
      "cell_type": "code",
      "metadata": {
        "id": "W4iobVml6GpO"
      },
      "source": [
        "for col in newdf.columns:\n",
        "    if col in (df_missing_values):\n",
        "        newdf[col].replace(np.nan, newdf[col].mean(),inplace=True)"
      ],
      "execution_count": null,
      "outputs": []
    },
    {
      "cell_type": "code",
      "metadata": {
        "colab": {
          "base_uri": "https://localhost:8080/"
        },
        "id": "I9aBHdSc6GwQ",
        "outputId": "f24bae05-1788-42c0-a657-b78457066388"
      },
      "source": [
        "len(newdf.columns[newdf.isnull().sum(axis = 0)> 0])"
      ],
      "execution_count": null,
      "outputs": [
        {
          "output_type": "execute_result",
          "data": {
            "text/plain": [
              "0"
            ]
          },
          "metadata": {},
          "execution_count": 18
        }
      ]
    },
    {
      "cell_type": "code",
      "metadata": {
        "colab": {
          "base_uri": "https://localhost:8080/"
        },
        "id": "nMUASIZO6G3M",
        "outputId": "592128b4-af1b-4662-bab8-900ed639825f"
      },
      "source": [
        "# Create correlation matrix\n",
        "corr_matrix = newdf.corr()\n",
        "\n",
        "# Select upper triangle of correlation matrix\n",
        "upper = corr_matrix.where(np.triu(np.ones(corr_matrix.shape), k=1).astype(np.bool))\n",
        "\n",
        "# Find index of feature columns with correlation greater than 0.90\n",
        "highly_Correlated = [column for column in upper.columns if any(abs(upper[column]) > 0.90)]\n",
        "\n",
        "highly_Correlated"
      ],
      "execution_count": null,
      "outputs": [
        {
          "output_type": "execute_result",
          "data": {
            "text/plain": [
              "['AMT_GOODS_PRICE',\n",
              " 'FLAG_EMP_PHONE',\n",
              " 'REGION_RATING_CLIENT_W_CITY',\n",
              " 'YEARS_BEGINEXPLUATATION_MODE',\n",
              " 'FLOORSMAX_MODE',\n",
              " 'YEARS_BEGINEXPLUATATION_MEDI',\n",
              " 'FLOORSMAX_MEDI',\n",
              " 'OBS_60_CNT_SOCIAL_CIRCLE']"
            ]
          },
          "metadata": {},
          "execution_count": 19
        }
      ]
    },
    {
      "cell_type": "code",
      "metadata": {
        "id": "7hwLxk-26G-_"
      },
      "source": [
        "#droping unneccesary columns like the ones that have high correlation\n",
        "cols_drop = ['AMT_GOODS_PRICE',\n",
        " 'FLAG_EMP_PHONE',\n",
        " 'REGION_RATING_CLIENT_W_CITY',\n",
        " 'YEARS_BEGINEXPLUATATION_MODE',\n",
        " 'FLOORSMAX_MODE',\n",
        " 'YEARS_BEGINEXPLUATATION_MEDI',\n",
        " 'FLOORSMAX_MEDI',\n",
        " 'OBS_60_CNT_SOCIAL_CIRCLE']\n",
        "\n",
        "\n",
        "for data in [newdf]:\n",
        "    data.drop(columns = cols_drop,inplace=True)"
      ],
      "execution_count": null,
      "outputs": []
    },
    {
      "cell_type": "code",
      "metadata": {
        "id": "_uFG9i_X6p-s"
      },
      "source": [
        "obj_df = newdf.select_dtypes(include=['object'])"
      ],
      "execution_count": null,
      "outputs": []
    },
    {
      "cell_type": "code",
      "metadata": {
        "id": "oCt97KFy6vdY"
      },
      "source": [
        "from sklearn import preprocessing\n",
        "newdf = newdf.apply(preprocessing.LabelEncoder().fit_transform)"
      ],
      "execution_count": null,
      "outputs": []
    },
    {
      "cell_type": "code",
      "metadata": {
        "colab": {
          "base_uri": "https://localhost:8080/"
        },
        "id": "XFAeYkaT60_c",
        "outputId": "3c9350b3-bd05-4c10-9a3b-a177447f51de"
      },
      "source": [
        "newdf.dtypes.value_counts()"
      ],
      "execution_count": null,
      "outputs": [
        {
          "output_type": "execute_result",
          "data": {
            "text/plain": [
              "int64    73\n",
              "dtype: int64"
            ]
          },
          "metadata": {},
          "execution_count": 34
        }
      ]
    },
    {
      "cell_type": "code",
      "metadata": {
        "id": "dRtLLdNC8F5p"
      },
      "source": [
        "X = newdf.drop(['TARGET'], axis=1)\n",
        "y = newdf['TARGET']"
      ],
      "execution_count": null,
      "outputs": []
    },
    {
      "cell_type": "code",
      "metadata": {
        "id": "D9jCmS7q8V15"
      },
      "source": [
        "from sklearn.model_selection import train_test_split\n",
        "X_train, X_test, y_train, y_test = train_test_split(X,y, test_size = 0.2, random_state = 42)\n"
      ],
      "execution_count": null,
      "outputs": []
    },
    {
      "cell_type": "code",
      "metadata": {
        "id": "b7w2r9w564OK"
      },
      "source": [
        "from keras.layers import Input, Dense\n",
        "from keras.models import Model, Sequential\n",
        "from keras import regularizers\n",
        "from keras import optimizers\n",
        "import tensorflow as tf"
      ],
      "execution_count": null,
      "outputs": []
    },
    {
      "cell_type": "code",
      "metadata": {
        "id": "8uHyahu067o-"
      },
      "source": [
        "from sklearn.base import BaseEstimator\n",
        "class NaivePredictor(BaseEstimator):\n",
        "    \"\"\" Naive predictor is a benchmark \n",
        "        model that will always predict that a loan\n",
        "        will always get repaid.\n",
        "    \"\"\"\n",
        "    \n",
        "    def fit(self,X,y):\n",
        "        \"\"\"Do nothing\"\"\"\n",
        "        pass\n",
        "    \n",
        "    def predict(self,X):\n",
        "        \"\"\" Always predict 0 for loan repayment.\"\"\"\n",
        "        return np.zeros(X.shape[0])\n",
        "    \n",
        "    def predict_proba(self,X): \n",
        "        \"\"\" Return probability 100% for loan repayment.\"\"\"\n",
        "        prob = np.zeros((X.shape[0],2))\n",
        "        \n",
        "        #predict 100% loan repayment\n",
        "        prob[:,0]=1\n",
        "        \n",
        "        return prob"
      ],
      "execution_count": null,
      "outputs": []
    },
    {
      "cell_type": "code",
      "metadata": {
        "id": "MpmioiAw6-no"
      },
      "source": [
        "def auc_roc(y_true, y_pred):\n",
        "    # any tensorflow metric\n",
        "#     value, update_op = tf.contrib.metrics.streaming_auc(y_pred, y_true)\n",
        "    value, update_op = tf.metrics.auc(y_pred, y_true)\n",
        "\n",
        "    # find all variables created for this metric\n",
        "    metric_vars = [i for i in tf.local_variables() if 'auc_roc' in i.name.split('/')[1]]\n",
        "\n",
        "    # Add metric variables to GLOBAL_VARIABLES collection.\n",
        "    # They will be initialized for new session.\n",
        "    for v in metric_vars:\n",
        "        tf.add_to_collection(tf.GraphKeys.GLOBAL_VARIABLES, v)\n",
        "\n",
        "    # force to update metric values\n",
        "    with tf.control_dependencies([update_op]):\n",
        "        value = tf.identity(value)\n",
        "        return value\n",
        "\n",
        "class NeuralNetwork(BaseEstimator):\n",
        "    \"\"\" Two layer neural network.\n",
        "    \"\"\"\n",
        "    def __init__(self,input_shape=None,epochs=15,batch_size=250, optimizer='adagrad', init='normal'):\n",
        "        \n",
        "        self.optimizer = optimizer\n",
        "        self.init = init\n",
        "        self.batch_size = batch_size\n",
        "        self.epochs = epochs\n",
        "        self.input_shape=input_shape\n",
        "        \n",
        "        self.model_ = Sequential()\n",
        "        self.model_.add(Dense(300, input_dim=input_shape ,kernel_initializer=self.init ,  activation='relu'))\n",
        "        self.model_.add(Dense(1,kernel_initializer=self.init ,activation='sigmoid'))\n",
        "        self.model_.compile(loss='binary_crossentropy', optimizer=self.optimizer, metrics=[ auc_roc])\n",
        "    \n",
        "    def fit(self,X,y,valid_set=None):\n",
        "        \"\"\"Fit model\"\"\"\n",
        "        \n",
        "        if valid_set is None:\n",
        "            return self.model_.fit(X,y, epochs=self.epochs,verbose=0,  validation_split=0.1, batch_size =self.batch_size)\n",
        "        else:\n",
        "            return self.model_.fit(X,y, epochs=self.epochs,verbose=0,  validation_data=valid_set , batch_size =self.batch_size)\n",
        "    \n",
        "    def predict(self,X, y=None):\n",
        "        \"\"\" Always predict 0 for loan repayment.\"\"\"\n",
        "        probs = np.zeros((X.shape[0],2) )\n",
        "        probs[:,1] = self.model_.predict(X).flatten()\n",
        "        probs[:,0] = 1 - probs[:,1]\n",
        "        \n",
        "        return np.argmax(probs, axis=1)\n",
        "    \n",
        "    def score(self, X, y=None):\n",
        "        # counts number of values bigger than mean\n",
        "        return(sum(self.predict(X))) \n",
        "    \n",
        "    def predict_proba(self,X): \n",
        "        \"\"\" Return probability .\"\"\"\n",
        "        probs = np.zeros((X.shape[0],2) )\n",
        "        probs[:,1] = self.model_.predict(X).flatten()\n",
        "        probs[:,0] = 1 - probs[:,1]\n",
        "        \n",
        "        return probs"
      ],
      "execution_count": null,
      "outputs": []
    },
    {
      "cell_type": "code",
      "metadata": {
        "colab": {
          "base_uri": "https://localhost:8080/",
          "height": 297
        },
        "id": "Gvb4oQQY7Clh",
        "outputId": "0844d286-6ff2-43f9-aa3f-34e22d66cdad"
      },
      "source": [
        "from sklearn.metrics import roc_auc_score\n",
        "from sklearn.metrics import roc_curve\n",
        "\n",
        "\n",
        "#define bench mark model and train it\n",
        "bench = NaivePredictor()\n",
        "bench.fit(X_train, y_train )\n",
        "\n",
        "# predict probabilities\n",
        "# keep probabilities for the positive outcome only\n",
        "probs_bench = bench.predict_proba(X_test)[:,1]\n",
        "\n",
        "# calculate AUC\n",
        "auc_bench = roc_auc_score(y_test, probs_bench)\n",
        "print('Bench AUC: {:.4f}'.format(auc_bench))\n",
        "\n",
        "# calculate roc curve\n",
        "fpr_bench, tpr_bench, thresholds_bench  = roc_curve(y_test, probs_bench)\n",
        "\n",
        "# plot the roc curve for the model\n",
        "\n",
        "plt.plot(fpr_bench, tpr_bench,linestyle='--',label='Naive')\n",
        "\n",
        "plt.xlabel('False positive rate')\n",
        "plt.ylabel('True positive rate') \n",
        "\n",
        "# show the plot\n",
        "plt.legend()\n",
        "plt.show()"
      ],
      "execution_count": null,
      "outputs": [
        {
          "output_type": "stream",
          "text": [
            "Bench AUC: 0.5000\n"
          ],
          "name": "stdout"
        },
        {
          "output_type": "display_data",
          "data": {
            "image/png": "[encoded data removed]",
            "text/plain": [
              "<Figure size 432x288 with 1 Axes>"
            ]
          },
          "metadata": {}
        }
      ]
    },
    {
      "cell_type": "code",
      "metadata": {
        "id": "eLHHg4AR8UEB"
      },
      "source": [
        ""
      ],
      "execution_count": null,
      "outputs": []
    }
  ]
}